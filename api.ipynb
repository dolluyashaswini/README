{
  "nbformat": 4,
  "nbformat_minor": 0,
  "metadata": {
    "colab": {
      "name": "api.ipynb",
      "provenance": [],
      "authorship_tag": "ABX9TyMFR4ecivPChBRj93nWa0r6",
      "include_colab_link": true
    },
    "kernelspec": {
      "name": "python3",
      "display_name": "Python 3"
    }
  },
  "cells": [
    {
      "cell_type": "markdown",
      "metadata": {
        "id": "view-in-github",
        "colab_type": "text"
      },
      "source": [
        "<a href=\"https://colab.research.google.com/github/dolluyashaswini/README/blob/master/api.ipynb\" target=\"_parent\"><img src=\"https://colab.research.google.com/assets/colab-badge.svg\" alt=\"Open In Colab\"/></a>"
      ]
    },
    {
      "cell_type": "code",
      "metadata": {
        "id": "FGP11Xmwvy7O",
        "colab_type": "code",
        "outputId": "30c9c7ac-daea-46cc-aada-45586398a5e0",
        "colab": {
          "base_uri": "https://localhost:8080/",
          "height": 507
        }
      },
      "source": [
        "import requests\n",
        "from pprint import pprint\n",
        "url='https://samples.openweathermap.org/data/2.5/weather?q=()&appid=439d4b804bc8187953eb36d2a8c26a02'\n",
        "city=input('city_name : \\n')\n",
        "my_url=url+city\n",
        "data=requests.get(my_url).json()\n",
        "temp=data['main']['temp']\n",
        "wind_speed=data['wind']['speed']\n",
        "pprint(data)\n",
        "print('report data :\\n',data)\n",
        "\n"
      ],
      "execution_count": 0,
      "outputs": [
        {
          "output_type": "stream",
          "text": [
            "city_name : \n",
            "chennai\n",
            "{'base': 'stations',\n",
            " 'clouds': {'all': 90},\n",
            " 'cod': 200,\n",
            " 'coord': {'lat': 51.51, 'lon': -0.13},\n",
            " 'dt': 1485789600,\n",
            " 'id': 2643743,\n",
            " 'main': {'humidity': 81,\n",
            "          'pressure': 1012,\n",
            "          'temp': 280.32,\n",
            "          'temp_max': 281.15,\n",
            "          'temp_min': 279.15},\n",
            " 'name': 'London',\n",
            " 'sys': {'country': 'GB',\n",
            "         'id': 5091,\n",
            "         'message': 0.0103,\n",
            "         'sunrise': 1485762037,\n",
            "         'sunset': 1485794875,\n",
            "         'type': 1},\n",
            " 'visibility': 10000,\n",
            " 'weather': [{'description': 'light intensity drizzle',\n",
            "              'icon': '09d',\n",
            "              'id': 300,\n",
            "              'main': 'Drizzle'}],\n",
            " 'wind': {'deg': 80, 'speed': 4.1}}\n",
            "report data :\n",
            " {'coord': {'lon': -0.13, 'lat': 51.51}, 'weather': [{'id': 300, 'main': 'Drizzle', 'description': 'light intensity drizzle', 'icon': '09d'}], 'base': 'stations', 'main': {'temp': 280.32, 'pressure': 1012, 'humidity': 81, 'temp_min': 279.15, 'temp_max': 281.15}, 'visibility': 10000, 'wind': {'speed': 4.1, 'deg': 80}, 'clouds': {'all': 90}, 'dt': 1485789600, 'sys': {'type': 1, 'id': 5091, 'message': 0.0103, 'country': 'GB', 'sunrise': 1485762037, 'sunset': 1485794875}, 'id': 2643743, 'name': 'London', 'cod': 200}\n"
          ],
          "name": "stdout"
        }
      ]
    }
  ]
}